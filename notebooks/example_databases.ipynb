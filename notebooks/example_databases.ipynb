{
 "cells": [
  {
   "cell_type": "code",
   "execution_count": 1,
   "metadata": {},
   "outputs": [],
   "source": [
    "import os               \n",
    "\n",
    "os.chdir('..') # to be able to import \n",
    "import pandas as pd\n",
    "\n",
    "from db_utils import (create_db, create_embeddings_table,\n",
    "                      create_pgvector_extension, delete_db,\n",
    "                      insert_data_into_table, pg_connection)"
   ]
  },
  {
   "cell_type": "code",
   "execution_count": 2,
   "metadata": {},
   "outputs": [
    {
     "name": "stderr",
     "output_type": "stream",
     "text": [
      "INFO:root:Database 'test_db' created successfully\n"
     ]
    }
   ],
   "source": [
    "# create a database\n",
    "DB_NAME = 'test_db'\n",
    "create_db(db_name=DB_NAME)"
   ]
  },
  {
   "cell_type": "code",
   "execution_count": 3,
   "metadata": {},
   "outputs": [
    {
     "name": "stderr",
     "output_type": "stream",
     "text": [
      "INFO:root:pgvector extension created\n"
     ]
    }
   ],
   "source": [
    "# create the pgvector extension\n",
    "create_pgvector_extension(db_name=DB_NAME)"
   ]
  },
  {
   "cell_type": "code",
   "execution_count": 4,
   "metadata": {},
   "outputs": [
    {
     "name": "stderr",
     "output_type": "stream",
     "text": [
      "INFO:root:Embeddings table 'pg_embeddings_test' created.\n"
     ]
    }
   ],
   "source": [
    "# create the embeddings table\n",
    "create_embeddings_table(DB_NAME)"
   ]
  },
  {
   "cell_type": "code",
   "execution_count": 5,
   "metadata": {},
   "outputs": [
    {
     "name": "stderr",
     "output_type": "stream",
     "text": [
      "/tmp/ipykernel_18239/146122205.py:4: UserWarning: pandas only supports SQLAlchemy connectable (engine/connection) or database string URI or sqlite3 DBAPI2 connection. Other DBAPI2 objects are not tested. Please consider using SQLAlchemy.\n",
      "  pd.read_sql_query(f'SELECT * FROM {TB_NAME}', CONN)\n"
     ]
    },
    {
     "data": {
      "text/html": [
       "<div>\n",
       "<style scoped>\n",
       "    .dataframe tbody tr th:only-of-type {\n",
       "        vertical-align: middle;\n",
       "    }\n",
       "\n",
       "    .dataframe tbody tr th {\n",
       "        vertical-align: top;\n",
       "    }\n",
       "\n",
       "    .dataframe thead th {\n",
       "        text-align: right;\n",
       "    }\n",
       "</style>\n",
       "<table border=\"1\" class=\"dataframe\">\n",
       "  <thead>\n",
       "    <tr style=\"text-align: right;\">\n",
       "      <th></th>\n",
       "      <th>id</th>\n",
       "      <th>chunk</th>\n",
       "      <th>embedding</th>\n",
       "    </tr>\n",
       "  </thead>\n",
       "  <tbody>\n",
       "  </tbody>\n",
       "</table>\n",
       "</div>"
      ],
      "text/plain": [
       "Empty DataFrame\n",
       "Columns: [id, chunk, embedding]\n",
       "Index: []"
      ]
     },
     "execution_count": 5,
     "metadata": {},
     "output_type": "execute_result"
    }
   ],
   "source": [
    "# viewing the embeddings table\n",
    "TB_NAME = 'pg_embeddings_test'\n",
    "CONN = pg_connection(db_name=DB_NAME)\n",
    "pd.read_sql_query(f'SELECT * FROM {TB_NAME}', CONN)"
   ]
  },
  {
   "cell_type": "code",
   "execution_count": 6,
   "metadata": {},
   "outputs": [
    {
     "name": "stderr",
     "output_type": "stream",
     "text": [
      "INFO:root:Data inserted into table 'pg_embeddings_test'. Failed chunks: 0\n",
      "/tmp/ipykernel_18239/3580995286.py:5: UserWarning: pandas only supports SQLAlchemy connectable (engine/connection) or database string URI or sqlite3 DBAPI2 connection. Other DBAPI2 objects are not tested. Please consider using SQLAlchemy.\n",
      "  pd.read_sql_query(f'SELECT * FROM {TB_NAME}', CONN)\n"
     ]
    },
    {
     "data": {
      "text/html": [
       "<div>\n",
       "<style scoped>\n",
       "    .dataframe tbody tr th:only-of-type {\n",
       "        vertical-align: middle;\n",
       "    }\n",
       "\n",
       "    .dataframe tbody tr th {\n",
       "        vertical-align: top;\n",
       "    }\n",
       "\n",
       "    .dataframe thead th {\n",
       "        text-align: right;\n",
       "    }\n",
       "</style>\n",
       "<table border=\"1\" class=\"dataframe\">\n",
       "  <thead>\n",
       "    <tr style=\"text-align: right;\">\n",
       "      <th></th>\n",
       "      <th>id</th>\n",
       "      <th>chunk</th>\n",
       "      <th>embedding</th>\n",
       "    </tr>\n",
       "  </thead>\n",
       "  <tbody>\n",
       "    <tr>\n",
       "      <th>0</th>\n",
       "      <td>b3b8592d-9c17-4578-854a-7da73d524b70</td>\n",
       "      <td>hello</td>\n",
       "      <td>[0.1,0.2]</td>\n",
       "    </tr>\n",
       "    <tr>\n",
       "      <th>1</th>\n",
       "      <td>bf0bf6d4-4935-4916-a34d-f6b327245263</td>\n",
       "      <td>world</td>\n",
       "      <td>[0.3,0.4]</td>\n",
       "    </tr>\n",
       "    <tr>\n",
       "      <th>2</th>\n",
       "      <td>c0091549-68cb-4216-b510-0d1bbdb4d60b</td>\n",
       "      <td>how</td>\n",
       "      <td>[0.5,0.6]</td>\n",
       "    </tr>\n",
       "    <tr>\n",
       "      <th>3</th>\n",
       "      <td>41d1e486-429c-4c8c-b525-b6371515fbb1</td>\n",
       "      <td>are</td>\n",
       "      <td>[0.7,0.8]</td>\n",
       "    </tr>\n",
       "    <tr>\n",
       "      <th>4</th>\n",
       "      <td>db66e572-6594-4464-bf87-5ab9a5618c5d</td>\n",
       "      <td>you</td>\n",
       "      <td>[0.9,1]</td>\n",
       "    </tr>\n",
       "  </tbody>\n",
       "</table>\n",
       "</div>"
      ],
      "text/plain": [
       "                                     id  chunk  embedding\n",
       "0  b3b8592d-9c17-4578-854a-7da73d524b70  hello  [0.1,0.2]\n",
       "1  bf0bf6d4-4935-4916-a34d-f6b327245263  world  [0.3,0.4]\n",
       "2  c0091549-68cb-4216-b510-0d1bbdb4d60b    how  [0.5,0.6]\n",
       "3  41d1e486-429c-4c8c-b525-b6371515fbb1    are  [0.7,0.8]\n",
       "4  db66e572-6594-4464-bf87-5ab9a5618c5d    you    [0.9,1]"
      ]
     },
     "execution_count": 6,
     "metadata": {},
     "output_type": "execute_result"
    }
   ],
   "source": [
    "# inserting data in the embeddings table\n",
    "text_chunks = ['hello', 'world', 'how', 'are', 'you']\n",
    "text_embeddings = [[0.1, 0.2], [0.3, 0.4], [0.5, 0.6], [0.7, 0.8], [0.9, 1.0]] # fake embeddings \n",
    "insert_data_into_table(DB_NAME, text_chunks, text_embeddings, TB_NAME)\n",
    "pd.read_sql_query(f'SELECT * FROM {TB_NAME}', CONN)"
   ]
  },
  {
   "cell_type": "code",
   "execution_count": 7,
   "metadata": {},
   "outputs": [
    {
     "name": "stderr",
     "output_type": "stream",
     "text": [
      "INFO:root:Database test_db deleted\n"
     ]
    }
   ],
   "source": [
    "# deleting all databases\n",
    "CONN.close()\n",
    "delete_db(DB_NAME)"
   ]
  },
  {
   "cell_type": "code",
   "execution_count": null,
   "metadata": {},
   "outputs": [],
   "source": []
  }
 ],
 "metadata": {
  "kernelspec": {
   "display_name": ".venv",
   "language": "python",
   "name": "python3"
  },
  "language_info": {
   "codemirror_mode": {
    "name": "ipython",
    "version": 3
   },
   "file_extension": ".py",
   "mimetype": "text/x-python",
   "name": "python",
   "nbconvert_exporter": "python",
   "pygments_lexer": "ipython3",
   "version": "3.12.3"
  }
 },
 "nbformat": 4,
 "nbformat_minor": 2
}
