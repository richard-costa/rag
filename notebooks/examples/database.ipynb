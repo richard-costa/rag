{
 "cells": [
  {
   "cell_type": "code",
   "execution_count": 1,
   "metadata": {},
   "outputs": [],
   "source": [
    "%%capture\n",
    "# !uv pip install -r ../requirements.txt # if using uv\n",
    "!pip install -r ../requirements.txt "
   ]
  },
  {
   "cell_type": "code",
   "execution_count": 2,
   "metadata": {},
   "outputs": [],
   "source": [
    "# kill all connections to the database before running this notebook\n",
    "\n",
    "import psycopg\n",
    "import os \n",
    "\n",
    "with psycopg.connect(dbname='postgres', user=os.getenv('POSTGRES_USER'), password=os.getenv('POSTGRES_PASSWORD'), host='localhost') as conn:\n",
    "    conn.autocommit = True\n",
    "    with conn.cursor() as cur:\n",
    "        cur.execute(\"\"\"\n",
    "            SELECT pg_terminate_backend(pid)\n",
    "            FROM pg_stat_activity\n",
    "            WHERE datname = 'test_db'\n",
    "              AND pid <> pg_backend_pid();\n",
    "        \"\"\")"
   ]
  },
  {
   "cell_type": "code",
   "execution_count": 3,
   "metadata": {},
   "outputs": [],
   "source": [
    "import os\n",
    "os.chdir('../..') # to be able to import \n",
    "import pandas as pd\n",
    "\n",
    "from src.db_utils import (create_db, create_embeddings_table,\n",
    "                      create_pgvector_extension, delete_db,\n",
    "                      insert_data_into_table, pg_connection)"
   ]
  },
  {
   "cell_type": "code",
   "execution_count": 4,
   "metadata": {},
   "outputs": [
    {
     "name": "stderr",
     "output_type": "stream",
     "text": [
      "WARNING:root:Database 'test_db' already exists.\n"
     ]
    }
   ],
   "source": [
    "# create a database\n",
    "DB_NAME = 'test_db'\n",
    "create_db(db_name=DB_NAME)"
   ]
  },
  {
   "cell_type": "code",
   "execution_count": 5,
   "metadata": {},
   "outputs": [
    {
     "name": "stderr",
     "output_type": "stream",
     "text": [
      "INFO:root:pgvector extension created\n"
     ]
    }
   ],
   "source": [
    "# create the pgvector extension\n",
    "create_pgvector_extension(db_name=DB_NAME)"
   ]
  },
  {
   "cell_type": "code",
   "execution_count": 6,
   "metadata": {},
   "outputs": [
    {
     "name": "stderr",
     "output_type": "stream",
     "text": [
      "INFO:root:Embeddings table 'pg_embeddings_test' created.\n"
     ]
    }
   ],
   "source": [
    "# create the embeddings table\n",
    "create_embeddings_table(DB_NAME)"
   ]
  },
  {
   "cell_type": "code",
   "execution_count": 7,
   "metadata": {},
   "outputs": [
    {
     "name": "stderr",
     "output_type": "stream",
     "text": [
      "/tmp/ipykernel_71997/146122205.py:4: UserWarning: pandas only supports SQLAlchemy connectable (engine/connection) or database string URI or sqlite3 DBAPI2 connection. Other DBAPI2 objects are not tested. Please consider using SQLAlchemy.\n",
      "  pd.read_sql_query(f'SELECT * FROM {TB_NAME}', CONN)\n"
     ]
    },
    {
     "data": {
      "text/html": [
       "<div>\n",
       "<style scoped>\n",
       "    .dataframe tbody tr th:only-of-type {\n",
       "        vertical-align: middle;\n",
       "    }\n",
       "\n",
       "    .dataframe tbody tr th {\n",
       "        vertical-align: top;\n",
       "    }\n",
       "\n",
       "    .dataframe thead th {\n",
       "        text-align: right;\n",
       "    }\n",
       "</style>\n",
       "<table border=\"1\" class=\"dataframe\">\n",
       "  <thead>\n",
       "    <tr style=\"text-align: right;\">\n",
       "      <th></th>\n",
       "      <th>id</th>\n",
       "      <th>chunk</th>\n",
       "      <th>embedding</th>\n",
       "    </tr>\n",
       "  </thead>\n",
       "  <tbody>\n",
       "    <tr>\n",
       "      <th>0</th>\n",
       "      <td>07b101d8-108c-47e3-92fa-98b2a3a4d6a7</td>\n",
       "      <td>I'm a physicist and a Data Scientist</td>\n",
       "      <td>[-0.048952606,-0.057101876,0.028381784,0.09913...</td>\n",
       "    </tr>\n",
       "    <tr>\n",
       "      <th>1</th>\n",
       "      <td>15b34629-043c-4a46-805e-bf85d12a179a</td>\n",
       "      <td>I don't linke the Copenhagen interpretation</td>\n",
       "      <td>[-0.0031696414,0.07755055,0.009189781,0.029925...</td>\n",
       "    </tr>\n",
       "  </tbody>\n",
       "</table>\n",
       "</div>"
      ],
      "text/plain": [
       "                                     id  \\\n",
       "0  07b101d8-108c-47e3-92fa-98b2a3a4d6a7   \n",
       "1  15b34629-043c-4a46-805e-bf85d12a179a   \n",
       "\n",
       "                                         chunk  \\\n",
       "0         I'm a physicist and a Data Scientist   \n",
       "1  I don't linke the Copenhagen interpretation   \n",
       "\n",
       "                                           embedding  \n",
       "0  [-0.048952606,-0.057101876,0.028381784,0.09913...  \n",
       "1  [-0.0031696414,0.07755055,0.009189781,0.029925...  "
      ]
     },
     "execution_count": 7,
     "metadata": {},
     "output_type": "execute_result"
    }
   ],
   "source": [
    "# viewing the embeddings table\n",
    "TB_NAME = 'pg_embeddings_test'\n",
    "CONN = pg_connection(db_name=DB_NAME)\n",
    "pd.read_sql_query(f'SELECT * FROM {TB_NAME}', CONN)"
   ]
  },
  {
   "cell_type": "code",
   "execution_count": 8,
   "metadata": {},
   "outputs": [
    {
     "name": "stderr",
     "output_type": "stream",
     "text": [
      "INFO:root:Data inserted into table 'pg_embeddings_test'. Failed chunks: 0\n",
      "/tmp/ipykernel_71997/3580995286.py:5: UserWarning: pandas only supports SQLAlchemy connectable (engine/connection) or database string URI or sqlite3 DBAPI2 connection. Other DBAPI2 objects are not tested. Please consider using SQLAlchemy.\n",
      "  pd.read_sql_query(f'SELECT * FROM {TB_NAME}', CONN)\n"
     ]
    },
    {
     "data": {
      "text/html": [
       "<div>\n",
       "<style scoped>\n",
       "    .dataframe tbody tr th:only-of-type {\n",
       "        vertical-align: middle;\n",
       "    }\n",
       "\n",
       "    .dataframe tbody tr th {\n",
       "        vertical-align: top;\n",
       "    }\n",
       "\n",
       "    .dataframe thead th {\n",
       "        text-align: right;\n",
       "    }\n",
       "</style>\n",
       "<table border=\"1\" class=\"dataframe\">\n",
       "  <thead>\n",
       "    <tr style=\"text-align: right;\">\n",
       "      <th></th>\n",
       "      <th>id</th>\n",
       "      <th>chunk</th>\n",
       "      <th>embedding</th>\n",
       "    </tr>\n",
       "  </thead>\n",
       "  <tbody>\n",
       "    <tr>\n",
       "      <th>0</th>\n",
       "      <td>07b101d8-108c-47e3-92fa-98b2a3a4d6a7</td>\n",
       "      <td>I'm a physicist and a Data Scientist</td>\n",
       "      <td>[-0.048952606,-0.057101876,0.028381784,0.09913...</td>\n",
       "    </tr>\n",
       "    <tr>\n",
       "      <th>1</th>\n",
       "      <td>15b34629-043c-4a46-805e-bf85d12a179a</td>\n",
       "      <td>I don't linke the Copenhagen interpretation</td>\n",
       "      <td>[-0.0031696414,0.07755055,0.009189781,0.029925...</td>\n",
       "    </tr>\n",
       "    <tr>\n",
       "      <th>2</th>\n",
       "      <td>22913834-2aac-4487-92be-a0a5cd024d12</td>\n",
       "      <td>hello</td>\n",
       "      <td>[0.1,0.2]</td>\n",
       "    </tr>\n",
       "    <tr>\n",
       "      <th>3</th>\n",
       "      <td>e05101d4-c306-45ed-92dc-37eb96c9b608</td>\n",
       "      <td>world</td>\n",
       "      <td>[0.3,0.4]</td>\n",
       "    </tr>\n",
       "    <tr>\n",
       "      <th>4</th>\n",
       "      <td>606d1749-513b-4457-82e0-7ee178b3a271</td>\n",
       "      <td>how</td>\n",
       "      <td>[0.5,0.6]</td>\n",
       "    </tr>\n",
       "    <tr>\n",
       "      <th>5</th>\n",
       "      <td>6e34f431-f042-4915-9ec9-bb6a7097eea9</td>\n",
       "      <td>are</td>\n",
       "      <td>[0.7,0.8]</td>\n",
       "    </tr>\n",
       "    <tr>\n",
       "      <th>6</th>\n",
       "      <td>c8d7bb98-9d84-4e68-92be-6fd6d3e7b1c6</td>\n",
       "      <td>you</td>\n",
       "      <td>[0.9,1]</td>\n",
       "    </tr>\n",
       "  </tbody>\n",
       "</table>\n",
       "</div>"
      ],
      "text/plain": [
       "                                     id  \\\n",
       "0  07b101d8-108c-47e3-92fa-98b2a3a4d6a7   \n",
       "1  15b34629-043c-4a46-805e-bf85d12a179a   \n",
       "2  22913834-2aac-4487-92be-a0a5cd024d12   \n",
       "3  e05101d4-c306-45ed-92dc-37eb96c9b608   \n",
       "4  606d1749-513b-4457-82e0-7ee178b3a271   \n",
       "5  6e34f431-f042-4915-9ec9-bb6a7097eea9   \n",
       "6  c8d7bb98-9d84-4e68-92be-6fd6d3e7b1c6   \n",
       "\n",
       "                                         chunk  \\\n",
       "0         I'm a physicist and a Data Scientist   \n",
       "1  I don't linke the Copenhagen interpretation   \n",
       "2                                        hello   \n",
       "3                                        world   \n",
       "4                                          how   \n",
       "5                                          are   \n",
       "6                                          you   \n",
       "\n",
       "                                           embedding  \n",
       "0  [-0.048952606,-0.057101876,0.028381784,0.09913...  \n",
       "1  [-0.0031696414,0.07755055,0.009189781,0.029925...  \n",
       "2                                          [0.1,0.2]  \n",
       "3                                          [0.3,0.4]  \n",
       "4                                          [0.5,0.6]  \n",
       "5                                          [0.7,0.8]  \n",
       "6                                            [0.9,1]  "
      ]
     },
     "execution_count": 8,
     "metadata": {},
     "output_type": "execute_result"
    }
   ],
   "source": [
    "# inserting data in the embeddings table\n",
    "text_chunks = ['hello', 'world', 'how', 'are', 'you']\n",
    "text_embeddings = [[0.1, 0.2], [0.3, 0.4], [0.5, 0.6], [0.7, 0.8], [0.9, 1.0]] # fake embeddings \n",
    "insert_data_into_table(DB_NAME, text_chunks, text_embeddings, TB_NAME)\n",
    "pd.read_sql_query(f'SELECT * FROM {TB_NAME}', CONN)"
   ]
  },
  {
   "cell_type": "code",
   "execution_count": 9,
   "metadata": {},
   "outputs": [
    {
     "name": "stderr",
     "output_type": "stream",
     "text": [
      "INFO:root:Database test_db deleted\n"
     ]
    }
   ],
   "source": [
    "# delete the database\n",
    "CONN.close()\n",
    "delete_db(DB_NAME)"
   ]
  }
 ],
 "metadata": {
  "kernelspec": {
   "display_name": "rag",
   "language": "python",
   "name": "python3"
  },
  "language_info": {
   "codemirror_mode": {
    "name": "ipython",
    "version": 3
   },
   "file_extension": ".py",
   "mimetype": "text/x-python",
   "name": "python",
   "nbconvert_exporter": "python",
   "pygments_lexer": "ipython3",
   "version": "3.10.17"
  }
 },
 "nbformat": 4,
 "nbformat_minor": 2
}
