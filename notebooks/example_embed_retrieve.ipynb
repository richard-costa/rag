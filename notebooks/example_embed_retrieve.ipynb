{
 "cells": [
  {
   "cell_type": "code",
   "execution_count": 1,
   "metadata": {},
   "outputs": [],
   "source": [
    "%%capture\n",
    "%pip install --upgrade jupyter ipywidgets # due to warning: \n",
    "#'TqdmWarning: IProgress not found. Please update jupyter and ipywidgets. \n",
    "# See https://ipywidgets.readthedocs.io/en/stable/user_install.html from .autonotebook import tqdm as notebook_tqdm'"
   ]
  },
  {
   "cell_type": "code",
   "execution_count": 2,
   "metadata": {},
   "outputs": [],
   "source": [
    "import os\n",
    "\n",
    "import numpy as np\n",
    "from sentence_transformers import SentenceTransformer\n",
    "\n",
    "os.chdir('..')\n",
    "import pandas as pd\n",
    "\n",
    "from db_utils import (create_db, create_embeddings_table,\n",
    "                      create_pgvector_extension, delete_db,\n",
    "                      insert_data_into_table, pg_connection)\n",
    "from embed import HFModels\n",
    "from retrieval import retrieve_from_pgvector"
   ]
  },
  {
   "cell_type": "code",
   "execution_count": 3,
   "metadata": {},
   "outputs": [],
   "source": [
    "def generate_encodings(\n",
    "        sentences: list, \n",
    "        model: SentenceTransformer = HFModels.default.value,\n",
    "        save_to_file: bool = True, \n",
    "        filename: str = 'example_embeddings.npy'\n",
    "        ) -> np.ndarray:\n",
    "    \n",
    "    try:\n",
    "        embeddings = np.load(filename)\n",
    "        return embeddings\n",
    "    except FileNotFoundError:\n",
    "        print(f\"File '{filename}' not found. Generating embeddings...\")\n",
    "\n",
    "    model: SentenceTransformer = SentenceTransformer(HFModels.default.value)\n",
    "    embeddings: np.ndarray = model.encode(sentences=sentences) # shape: (len(sentences), 384)\n",
    "    if save_to_file: np.save('example_embeddings.npy', embeddings)\n",
    "        \n",
    "    return embeddings"
   ]
  },
  {
   "cell_type": "code",
   "execution_count": null,
   "metadata": {},
   "outputs": [],
   "source": [
    "# create the database and embeddings table\n",
    "db_name = 'test_db'\n",
    "create_db(db_name=db_name)\n",
    "create_pgvector_extension(db_name)\n",
    "create_embeddings_table(db_name)\n",
    "CONN = pg_connection(db_name)\n",
    "pd.read_sql_query('SELECT * FROM pg_embeddings', CONN)"
   ]
  },
  {
   "cell_type": "code",
   "execution_count": null,
   "metadata": {},
   "outputs": [],
   "source": [
    "sentences = [\"I'm a physicist and a Data Scientist\", \"I don't linke the Copenhagen interpretation\"]\n",
    "embeddings: np.ndarray = generate_encodings(sentences)\n",
    "embeddings = embeddings.tolist()\n",
    "insert_data_into_table(db_name, sentences, embeddings)\n",
    "pd.read_sql_query('SELECT * FROM pg_embeddings', CONN)"
   ]
  },
  {
   "cell_type": "code",
   "execution_count": null,
   "metadata": {},
   "outputs": [],
   "source": [
    "# example of retrieval\n",
    "\n",
    "\n",
    "query = 'copenhagen'\n",
    "print(retrieve_from_pgvector(query, 'test_db'))"
   ]
  },
  {
   "cell_type": "code",
   "execution_count": 7,
   "metadata": {},
   "outputs": [],
   "source": [
    "CONN.close()"
   ]
  },
  {
   "cell_type": "code",
   "execution_count": null,
   "metadata": {},
   "outputs": [],
   "source": [
    "delete_db(db_name)"
   ]
  }
 ],
 "metadata": {
  "kernelspec": {
   "display_name": ".venv",
   "language": "python",
   "name": "python3"
  },
  "language_info": {
   "codemirror_mode": {
    "name": "ipython",
    "version": 3
   },
   "file_extension": ".py",
   "mimetype": "text/x-python",
   "name": "python",
   "nbconvert_exporter": "python",
   "pygments_lexer": "ipython3",
   "version": "3.12.3"
  }
 },
 "nbformat": 4,
 "nbformat_minor": 2
}
